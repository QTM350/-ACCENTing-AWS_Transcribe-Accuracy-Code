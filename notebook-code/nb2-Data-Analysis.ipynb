{
 "cells": [
  {
   "cell_type": "markdown",
   "metadata": {},
   "source": [
    "# Notebook 2: Cleaning, Wrangling, and Visualizing Outputs from AWS Transcribe\n",
    "\n",
    "In this notebook, we will take the transcripts generated in the previous notebook, extract the data in which we are interested, and create visualizations to more easily understand Amazon Transcribe's accuracy."
   ]
  },
  {
   "cell_type": "markdown",
   "metadata": {},
   "source": [
    "## Import Data\n",
    "We have fifteen transcripts across five accents and three levels of text difficulty stored in our S3 bucket, **aws-generated-transcripts**. We retrieve them by calling to S3 and assign them to object names for simplification. You can replace our bucket name with the one you used in the previous notebook, or you can simply call from our output bucket."
   ]
  },
  {
   "cell_type": "code",
   "execution_count": 1,
   "metadata": {},
   "outputs": [],
   "source": [
    "import boto3\n",
    "s3 = boto3.resource('s3')"
   ]
  },
  {
   "cell_type": "code",
   "execution_count": 2,
   "metadata": {},
   "outputs": [],
   "source": [
    "amerEasy = s3.Object('aws-generated-transcripts','American_Easy_Transcript.json')\n",
    "amerMed = s3.Object('aws-generated-transcripts','American_Medium_Transcript.json')\n",
    "amerHard = s3.Object('aws-generated-transcripts','American_Hard_Transcript.json')\n",
    "\n",
    "britEasy = s3.Object('aws-generated-transcripts','British_Easy_Transcript.json')\n",
    "britMed = s3.Object('aws-generated-transcripts','British_Medium_Transcript.json')\n",
    "britHard = s3.Object('aws-generated-transcripts','British_Hard_Transcript.json')\n",
    "\n",
    "chinEasy = s3.Object('aws-generated-transcripts','Chinese_Easy_Transcript.json')\n",
    "chinMed = s3.Object('aws-generated-transcripts','Chinese_Medium_Transcript.json')\n",
    "chinHard = s3.Object('aws-generated-transcripts','Chinese_Hard_Transcript.json')\n",
    "\n",
    "hindiEasy = s3.Object('aws-generated-transcripts','Hindi_Easy_Transcript.json')\n",
    "hindiMed = s3.Object('aws-generated-transcripts','Hindi_Medium_Transcript.json')\n",
    "hindiHard = s3.Object('aws-generated-transcripts','Hindi_Hard_Transcript.json')\n",
    "\n",
    "spanEasy = s3.Object('aws-generated-transcripts','Spanish_Easy_Transcript.json')\n",
    "spanMed = s3.Object('aws-generated-transcripts','Spanish_Medium_Transcript.json')\n",
    "spanHard = s3.Object('aws-generated-transcripts','Spanish_Hard_Transcript.json')"
   ]
  },
  {
   "cell_type": "markdown",
   "metadata": {},
   "source": [
    "We also need to retrieve the actual transcripts from our bucket, **actual-transcripts-for-comparison**, done below:"
   ]
  },
  {
   "cell_type": "code",
   "execution_count": 3,
   "metadata": {},
   "outputs": [],
   "source": [
    "actual_Easy = s3.Object('actual-transcripts-for-comparison','Easy_Actual_Transcription.txt')\n",
    "easy_actual_str = actual_Easy.get()['Body'].read().decode('utf-8')\n",
    "actual_Med = s3.Object('actual-transcripts-for-comparison','Medium_Actual_Transcription.txt')\n",
    "med_actual_str = actual_Easy.get()['Body'].read().decode('utf-8')\n",
    "actual_Hard = s3.Object('actual-transcripts-for-comparison','Hard_Actual_Transcription.txt')\n",
    "hard_actual_str = actual_Easy.get()['Body'].read().decode('utf-8')"
   ]
  },
  {
   "cell_type": "markdown",
   "metadata": {},
   "source": [
    "## Data Structure\n",
    "First, let's understand the structure of our data. By default, Transcribe returns a [JSON](https://www.json.org/json-en.html) file. JSON stands for JavaScript Object Notation, and it is a lightweight way of transferring data between a browser (such as Google Chrome) and a server (such as those that house and run AWS services). JSON files have little structure, and can be difficult to read. Fortunately, a JSON file can be easily converted into a Python [dictionary](https://realpython.com/python-dicts/) with the `json.loads()` function. Once we have the Python dictionary, its structure can still be complex. Thus, the diagram below is shown to more clearly indicate which variables we are interested in."
   ]
  },
  {
   "cell_type": "markdown",
   "metadata": {},
   "source": [
    "<img src=\"https://docs.google.com/uc?export=download&id=1hmTkvp6NoU_WtL0zOO_pbNROoj-peGOD\">"
   ]
  },
  {
   "cell_type": "markdown",
   "metadata": {},
   "source": [
    "In the diagram, solid lines indicate Python dictionaries, and dashed lines indicate Python lists. The data we're interested in is highlighted in turquoise. Obviously, we are interested in the transcript itself, as we would like to make comparisons of its text to the actual texts. We are also interested in two more variables, `content` and `confidence`. For each element transcribed (punctuation is parsed separately from the words themselves), AWS Transcribe reports its transcription of that word or punctuation is, along with its confidence in its transcription of that element. Thus, in the `results` dictionary, `items` is a list containing one dictionary for each word. Each of these dictionaries in turn contain `alternatives`, which contain the `content` and `confidence` variables.\n",
    "\n",
    "Therefore, if we want to see, say, the confidence level for the second word in a transcript, we would use the following code (Remember, Python uses zero-based indexing!):  \n",
    "`transcript_name['results']['items'][1]['alternatives'][0]['confidence']`  \n",
    "\n",
    "Of course, this would be very tedious to do for each and every word, especially considering that we have fifteen transcripts to examine! This is where we turn to functions, not only to load our datasets and extract the information we want, but also to manipulate them in ways that facilitate our visualizations."
   ]
  },
  {
   "cell_type": "markdown",
   "metadata": {},
   "source": [
    "## Data Analysis\n",
    "Now we can start analyzing our data. Since we want to find out the same information about all of our transcripts, we'll create functions, the first of which will return the Levenshtein Distance between the AWS transcript and actual transcript. You may need to install the python-Levenshtein package."
   ]
  },
  {
   "cell_type": "code",
   "execution_count": 2,
   "metadata": {},
   "outputs": [
    {
     "name": "stdout",
     "output_type": "stream",
     "text": [
      "Collecting python-Levenshtein\n",
      "  Downloading python-Levenshtein-0.12.0.tar.gz (48 kB)\n",
      "\u001b[K     |████████████████████████████████| 48 kB 7.0 MB/s  eta 0:00:01\n",
      "\u001b[?25hRequirement already satisfied: setuptools in /home/ec2-user/anaconda3/envs/python3/lib/python3.6/site-packages (from python-Levenshtein) (45.2.0.post20200210)\n",
      "Building wheels for collected packages: python-Levenshtein\n",
      "  Building wheel for python-Levenshtein (setup.py) ... \u001b[?25ldone\n",
      "\u001b[?25h  Created wheel for python-Levenshtein: filename=python_Levenshtein-0.12.0-cp36-cp36m-linux_x86_64.whl size=151448 sha256=dcf38f14c598807c08fcac4873844eb46d1e0963ded59a5ff6a1a07af4e20de0\n",
      "  Stored in directory: /home/ec2-user/.cache/pip/wheels/79/c3/a1/cbdd8b154234b3e571d121b65be7d53354cc77e223e8f271c8\n",
      "Successfully built python-Levenshtein\n",
      "Installing collected packages: python-Levenshtein\n",
      "Successfully installed python-Levenshtein-0.12.0\n",
      "\u001b[33mWARNING: You are using pip version 20.0.2; however, version 20.2.4 is available.\n",
      "You should consider upgrading via the '/home/ec2-user/anaconda3/envs/python3/bin/python -m pip install --upgrade pip' command.\u001b[0m\n"
     ]
    }
   ],
   "source": [
    "import json\n",
    "import pandas as pd\n",
    "!pip install python-Levenshtein\n",
    "import Levenshtein"
   ]
  },
  {
   "cell_type": "markdown",
   "metadata": {},
   "source": [
    "### Function 1: Levenshtein Distance\n",
    "The Levenshtein Distance reflects the number of single-character changes required to make one string match another. We will determine accuracy using this metric, that is, an AWS-generated transcript with a lower Levenshtein distance will be deemed more accurate, for the purposes of this project. It is worth mentioning that AWS Transcribe claims to be able to account for punctuation, so we will leave punctuation in all transcripts for now."
   ]
  },
  {
   "cell_type": "code",
   "execution_count": 5,
   "metadata": {},
   "outputs": [],
   "source": [
    "def getLevDist (obj):\n",
    "    ## Reads in a transcript object, converts it to a dictionary, and extracts the transcript portion\n",
    "    ## Then compares generated transcript with the corresponding actual transcript, obtaining the Levenshtein Distance\n",
    "    ## Finally, compiles the accent of the transcript file, the text difficulty, and the Levenshtein Distance in a pandas DataFrame\n",
    "    ## Returns the created data frame\n",
    "    \n",
    "    content_str = obj.get()['Body'].read().decode('utf-8')    # Reads in the file as a string\n",
    "    content_json = json.loads(content_str)                    # Converts the string to a dictionary\n",
    "    transcript_str = content_json['results']['transcripts'][0]['transcript']    # Extracts only the transcript itself as a string\n",
    "\n",
    "    ## For clarity, we're adding this code to remind us of the accent and difficulty of the input transcript.\n",
    "    ## Determine text level:\n",
    "    if \"Easy\" in str(obj):\n",
    "        actual_str = easy_actual_str\n",
    "        textlevel = \"Easy\"\n",
    "    if \"Med\" in str(obj):\n",
    "        actual_str = med_actual_str\n",
    "        textlevel = \"Medium\"\n",
    "    if \"Hard\" in str(obj):\n",
    "        actual_str = hard_actual_str\n",
    "        textlevel = \"Hard\"\n",
    "    ## Determine accent:    \n",
    "    if \"Amer\" in str(obj):\n",
    "        speaker = \"American_US\"\n",
    "    if \"Brit\" in str(obj):\n",
    "        speaker = \"British_UK\"\n",
    "    if \"Chin\" in str(obj):\n",
    "        speaker = \"Chinese\"\n",
    "    if \"Hindi\" in str(obj):\n",
    "        speaker = \"Hindi\"\n",
    "    if \"Span\" in str(obj):\n",
    "        speaker = \"Spanish\"\n",
    "    \n",
    "    ## Obtain the Levenshtein Distance\n",
    "    levDist = Levenshtein.distance(transcript_str, actual_str)\n",
    "    \n",
    "    ## And compile the data, converting it to a pandas data frame.\n",
    "    df_results = pd.DataFrame({\"Accent\":[speaker],\n",
    "                               \"Difficulty\":[textlevel],\n",
    "                               \"Lev Distance\":[levDist]})\n",
    "    \n",
    "    ## Returns pandas data frame\n",
    "    return(df_results)"
   ]
  },
  {
   "cell_type": "markdown",
   "metadata": {},
   "source": [
    "With our function complete, we can apply it to all of our transcripts. A `for` loop allows us to efficiently compile the resulting data from all transcripts. We will also save our data frame to a CSV file in one of our S3 buckets. (If you wish to save your output, you will again need to provide the name of one of your own S3 buckets.)"
   ]
  },
  {
   "cell_type": "code",
   "execution_count": 6,
   "metadata": {},
   "outputs": [],
   "source": [
    "dataList = [amerEasy, amerMed, amerHard, britEasy, britMed, britHard, chinEasy, chinMed, chinHard,\n",
    "           hindiEasy, hindiMed, hindiHard, spanEasy, spanMed, spanHard]    # List for the 'for' loop to cycle through\n",
    "levData = pd.DataFrame()     # Empty data frame to store outputs as they are created\n",
    "\n",
    "for dataset in dataList:     # Generating and storing data\n",
    "    levData = levData.append(getLevDist(dataset))"
   ]
  },
  {
   "cell_type": "code",
   "execution_count": 7,
   "metadata": {},
   "outputs": [],
   "source": [
    "# Save to CSV and upload to S3\n",
    "levData.to_csv('LevData.csv', index=False)\n",
    "s3.meta.client.upload_file('LevData.csv', 'aws-generated-transcripts', 'Lev-Distances.csv')"
   ]
  },
  {
   "cell_type": "markdown",
   "metadata": {},
   "source": [
    "### Function 2: Word Confidences and Lengths\n",
    "Our second function will extract each word in the transcript and the corresponding confidence level. We will also calculate the length of each word and clean the data, removing any punctuation and converting all words to lowercase."
   ]
  },
  {
   "cell_type": "code",
   "execution_count": 8,
   "metadata": {},
   "outputs": [],
   "source": [
    "def getConfAndLength(obj):\n",
    "    ## Reads in a transcript object, converts it to a dictionary, and extracts the items portion\n",
    "    ## Determines and stores accent and text level for clarity\n",
    "    ## Extracts and stores each word and its confidence level\n",
    "    ## Removes irrelevant data such as punctuation, and converts all words to lowercase letters\n",
    "    ## Calculates and stores the length of each word\n",
    "    ## Returns the data frame with all aforementioned variables\n",
    "    \n",
    "    content_str = obj.get()['Body'].read().decode('utf-8')    # Reads in the file as a string\n",
    "    content_json = json.loads(content_str)                    # Converts the string to a dictionary\n",
    "    results_list = content_json['results']['items']           # Extracts the 'items' list, containing the dictionaries for all words/elements\n",
    "    \n",
    "    ## Create data frame to store relevant data\n",
    "    working_df = pd.DataFrame(columns = ['accent', 'difficulty', 'confidence', 'content'])\n",
    "    \n",
    "    ## Determine test level:\n",
    "    if \"Easy\" in str(obj):\n",
    "        textlevel = \"Easy\"\n",
    "    if \"Med\" in str(obj):\n",
    "        textlevel = \"Medium\"\n",
    "    if \"Hard\" in str(obj):\n",
    "        textlevel = \"Hard\"\n",
    "    ## Determine accent:   \n",
    "    if \"Amer\" in str(obj):\n",
    "        speaker = \"American_US\"\n",
    "    if \"Brit\" in str(obj):\n",
    "        speaker = \"British_UK\"\n",
    "    if \"Chin\" in str(obj):\n",
    "        speaker = \"Chinese\"\n",
    "    if \"Hindi\" in str(obj):\n",
    "        speaker = \"Hindi\"\n",
    "    if \"Span\" in str(obj):\n",
    "        speaker = \"Spanish\"\n",
    "    \n",
    "    ## Extract each word and corresponding confidence, adding all to the data frame:\n",
    "    alternatives_list = []\n",
    "    for element in results_list:\n",
    "        alts = element['alternatives'][0]\n",
    "        alternatives_list.append(alts)\n",
    "    for i in alternatives_list:\n",
    "        working_df = working_df.append(i, ignore_index = True)\n",
    "        \n",
    "    ## Filter out non-alphanumeric entries and convert all remaining entries to lowercase:\n",
    "    working_df = working_df.loc[working_df['content'].str.isalnum()]\n",
    "    working_df['content'] = working_df['content'].str.lower()\n",
    "    \n",
    "    ## Obtain word length of all entries:\n",
    "    contentList = working_df['content'].tolist()\n",
    "    lengthList = []\n",
    "    for i in contentList:\n",
    "        lengthList.append(len(i))\n",
    "    working_df['wrdLength'] = lengthList\n",
    "    \n",
    "    ## Add appropriate accent/difficulty labels to data\n",
    "    working_df['difficulty'] = [textlevel] * len(working_df.index)\n",
    "    working_df['accent'] = [speaker] * len(working_df.index)\n",
    "    \n",
    "    ## Convert confidence column from str to float64\n",
    "    working_df = working_df.astype({'confidence':'float64'})\n",
    "    \n",
    "    ## Returns pandas data frame\n",
    "    return(working_df)"
   ]
  },
  {
   "cell_type": "markdown",
   "metadata": {},
   "source": [
    "Additionally, since the JSON files are read in as strings, therefore making all of the values we extracted strings as well, we add a line of code at the end of our function to convert the `confidence` column from type `str` to type `float64` so that we can work with this column's data as numbers. "
   ]
  },
  {
   "cell_type": "code",
   "execution_count": 9,
   "metadata": {},
   "outputs": [],
   "source": [
    "confLenData = pd.DataFrame()     # Empty data frame for storage\n",
    "\n",
    "for dataset in dataList:     # Generating and storing data\n",
    "    confLenData = confLenData.append(getConfAndLength(dataset))"
   ]
  },
  {
   "cell_type": "code",
   "execution_count": 10,
   "metadata": {},
   "outputs": [],
   "source": [
    "# Save to CSV and upload to S3\n",
    "confLenData.to_csv('confLenData.csv', index=False)\n",
    "s3.meta.client.upload_file('confLenData.csv', 'aws-generated-transcripts', 'Word-Confidences-and-Lengths.csv')"
   ]
  },
  {
   "cell_type": "markdown",
   "metadata": {},
   "source": [
    "## Visualize Data\n",
    "We are interested in seeing if Transcribe's accuracy varies across different accents speaking the same English words. We also would like to know if longer words correlate with lower confidence levels from Transcribe. The following figures give a more intuitive portrayal of our data."
   ]
  },
  {
   "cell_type": "code",
   "execution_count": 11,
   "metadata": {},
   "outputs": [],
   "source": [
    "import seaborn as sns\n",
    "import matplotlib.pyplot as plt\n",
    "import numpy as np"
   ]
  },
  {
   "cell_type": "code",
   "execution_count": 12,
   "metadata": {},
   "outputs": [
    {
     "data": {
      "text/plain": [
       "<matplotlib.legend.Legend at 0x7fd7b7b55da0>"
      ]
     },
     "execution_count": 12,
     "metadata": {},
     "output_type": "execute_result"
    },
    {
     "data": {
      "image/png": "[encoded data removed]",
      "text/plain": [
       "<Figure size 432x288 with 1 Axes>"
      ]
     },
     "metadata": {},
     "output_type": "display_data"
    }
   ],
   "source": [
    "sns.set(font_scale=1)\n",
    "sns.barplot(x=\"Accent\", y=\"Lev Distance\", hue=\"Difficulty\", data=levData)\n",
    "plt.legend(bbox_to_anchor=(1.01, 1),borderaxespad=0)"
   ]
  },
  {
   "cell_type": "markdown",
   "metadata": {},
   "source": [
    "Here, we can see that Transcribe was most accurate in transcribing the \"Easy\" audio files, but had about the same level of accuracy when it came to transcribing the \"Medium\" and \"Hard\" transcripts."
   ]
  },
  {
   "cell_type": "code",
   "execution_count": 13,
   "metadata": {},
   "outputs": [
    {
     "data": {
      "image/png": "[encoded data removed]",
      "text/plain": [
       "<Figure size 1800x360 with 5 Axes>"
      ]
     },
     "metadata": {},
     "output_type": "display_data"
    }
   ],
   "source": [
    "sns.set(font_scale=2)\n",
    "viz=sns.lmplot(data=confLenData, x=\"wrdLength\", y=\"confidence\",\n",
    "    col=\"accent\", hue=\"accent\", x_estimator=np.mean);\n",
    "\n",
    "plt.xlim([0,14])\n",
    "plt.xticks(np.arange(0,15,step=2))\n",
    "plt.subplots_adjust(wspace = 0.3)"
   ]
  },
  {
   "cell_type": "markdown",
   "metadata": {},
   "source": [
    "These figures reveal a *very* slight negative correlation between word length and confidence level. We also notice that in general, confidence levels seem to be lowest regarding the Spanish accent."
   ]
  },
  {
   "cell_type": "code",
   "execution_count": 14,
   "metadata": {},
   "outputs": [
    {
     "data": {
      "text/html": [
       "<div>\n",
       "<style scoped>\n",
       "    .dataframe tbody tr th:only-of-type {\n",
       "        vertical-align: middle;\n",
       "    }\n",
       "\n",
       "    .dataframe tbody tr th {\n",
       "        vertical-align: top;\n",
       "    }\n",
       "\n",
       "    .dataframe thead th {\n",
       "        text-align: right;\n",
       "    }\n",
       "</style>\n",
       "<table border=\"1\" class=\"dataframe\">\n",
       "  <thead>\n",
       "    <tr style=\"text-align: right;\">\n",
       "      <th></th>\n",
       "      <th></th>\n",
       "      <th>confidence</th>\n",
       "      <th>wrdLength</th>\n",
       "    </tr>\n",
       "    <tr>\n",
       "      <th>accent</th>\n",
       "      <th>difficulty</th>\n",
       "      <th></th>\n",
       "      <th></th>\n",
       "    </tr>\n",
       "  </thead>\n",
       "  <tbody>\n",
       "    <tr>\n",
       "      <th>British_UK</th>\n",
       "      <th>Medium</th>\n",
       "      <td>0.992242</td>\n",
       "      <td>3.813043</td>\n",
       "    </tr>\n",
       "    <tr>\n",
       "      <th>American_US</th>\n",
       "      <th>Medium</th>\n",
       "      <td>0.986954</td>\n",
       "      <td>3.821739</td>\n",
       "    </tr>\n",
       "    <tr>\n",
       "      <th>Hindi</th>\n",
       "      <th>Medium</th>\n",
       "      <td>0.986548</td>\n",
       "      <td>3.821739</td>\n",
       "    </tr>\n",
       "    <tr>\n",
       "      <th>American_US</th>\n",
       "      <th>Easy</th>\n",
       "      <td>0.986209</td>\n",
       "      <td>3.816949</td>\n",
       "    </tr>\n",
       "    <tr>\n",
       "      <th>British_UK</th>\n",
       "      <th>Easy</th>\n",
       "      <td>0.981380</td>\n",
       "      <td>3.757475</td>\n",
       "    </tr>\n",
       "    <tr>\n",
       "      <th>American_US</th>\n",
       "      <th>Hard</th>\n",
       "      <td>0.979695</td>\n",
       "      <td>5.423841</td>\n",
       "    </tr>\n",
       "    <tr>\n",
       "      <th>Hindi</th>\n",
       "      <th>Easy</th>\n",
       "      <td>0.978565</td>\n",
       "      <td>3.766892</td>\n",
       "    </tr>\n",
       "    <tr>\n",
       "      <th>Chinese</th>\n",
       "      <th>Hard</th>\n",
       "      <td>0.975869</td>\n",
       "      <td>5.437908</td>\n",
       "    </tr>\n",
       "    <tr>\n",
       "      <th>British_UK</th>\n",
       "      <th>Hard</th>\n",
       "      <td>0.972881</td>\n",
       "      <td>5.376623</td>\n",
       "    </tr>\n",
       "    <tr>\n",
       "      <th>Chinese</th>\n",
       "      <th>Medium</th>\n",
       "      <td>0.965186</td>\n",
       "      <td>3.912281</td>\n",
       "    </tr>\n",
       "    <tr>\n",
       "      <th>Hindi</th>\n",
       "      <th>Hard</th>\n",
       "      <td>0.962814</td>\n",
       "      <td>5.383117</td>\n",
       "    </tr>\n",
       "    <tr>\n",
       "      <th>Chinese</th>\n",
       "      <th>Easy</th>\n",
       "      <td>0.939290</td>\n",
       "      <td>3.858586</td>\n",
       "    </tr>\n",
       "    <tr>\n",
       "      <th rowspan=\"3\" valign=\"top\">Spanish</th>\n",
       "      <th>Medium</th>\n",
       "      <td>0.915697</td>\n",
       "      <td>3.849138</td>\n",
       "    </tr>\n",
       "    <tr>\n",
       "      <th>Easy</th>\n",
       "      <td>0.913318</td>\n",
       "      <td>3.792763</td>\n",
       "    </tr>\n",
       "    <tr>\n",
       "      <th>Hard</th>\n",
       "      <td>0.896859</td>\n",
       "      <td>5.121951</td>\n",
       "    </tr>\n",
       "  </tbody>\n",
       "</table>\n",
       "</div>"
      ],
      "text/plain": [
       "                        confidence  wrdLength\n",
       "accent      difficulty                       \n",
       "British_UK  Medium        0.992242   3.813043\n",
       "American_US Medium        0.986954   3.821739\n",
       "Hindi       Medium        0.986548   3.821739\n",
       "American_US Easy          0.986209   3.816949\n",
       "British_UK  Easy          0.981380   3.757475\n",
       "American_US Hard          0.979695   5.423841\n",
       "Hindi       Easy          0.978565   3.766892\n",
       "Chinese     Hard          0.975869   5.437908\n",
       "British_UK  Hard          0.972881   5.376623\n",
       "Chinese     Medium        0.965186   3.912281\n",
       "Hindi       Hard          0.962814   5.383117\n",
       "Chinese     Easy          0.939290   3.858586\n",
       "Spanish     Medium        0.915697   3.849138\n",
       "            Easy          0.913318   3.792763\n",
       "            Hard          0.896859   5.121951"
      ]
     },
     "execution_count": 14,
     "metadata": {},
     "output_type": "execute_result"
    }
   ],
   "source": [
    "confLenData.groupby(['accent','difficulty']).mean().sort_values(by=['confidence'],ascending=False)"
   ]
  },
  {
   "cell_type": "code",
   "execution_count": 15,
   "metadata": {},
   "outputs": [
    {
     "data": {
      "text/html": [
       "<div>\n",
       "<style scoped>\n",
       "    .dataframe tbody tr th:only-of-type {\n",
       "        vertical-align: middle;\n",
       "    }\n",
       "\n",
       "    .dataframe tbody tr th {\n",
       "        vertical-align: top;\n",
       "    }\n",
       "\n",
       "    .dataframe thead th {\n",
       "        text-align: right;\n",
       "    }\n",
       "</style>\n",
       "<table border=\"1\" class=\"dataframe\">\n",
       "  <thead>\n",
       "    <tr style=\"text-align: right;\">\n",
       "      <th></th>\n",
       "      <th></th>\n",
       "      <th>confidence</th>\n",
       "      <th>wrdLength</th>\n",
       "    </tr>\n",
       "    <tr>\n",
       "      <th>accent</th>\n",
       "      <th>difficulty</th>\n",
       "      <th></th>\n",
       "      <th></th>\n",
       "    </tr>\n",
       "  </thead>\n",
       "  <tbody>\n",
       "    <tr>\n",
       "      <th>British_UK</th>\n",
       "      <th>Medium</th>\n",
       "      <td>0.035875</td>\n",
       "      <td>1.813295</td>\n",
       "    </tr>\n",
       "    <tr>\n",
       "      <th>Hindi</th>\n",
       "      <th>Medium</th>\n",
       "      <td>0.055987</td>\n",
       "      <td>1.816580</td>\n",
       "    </tr>\n",
       "    <tr>\n",
       "      <th rowspan=\"2\" valign=\"top\">American_US</th>\n",
       "      <th>Medium</th>\n",
       "      <td>0.059448</td>\n",
       "      <td>1.828560</td>\n",
       "    </tr>\n",
       "    <tr>\n",
       "      <th>Easy</th>\n",
       "      <td>0.061874</td>\n",
       "      <td>1.670182</td>\n",
       "    </tr>\n",
       "    <tr>\n",
       "      <th>Hindi</th>\n",
       "      <th>Easy</th>\n",
       "      <td>0.070070</td>\n",
       "      <td>1.641533</td>\n",
       "    </tr>\n",
       "    <tr>\n",
       "      <th>British_UK</th>\n",
       "      <th>Easy</th>\n",
       "      <td>0.074146</td>\n",
       "      <td>1.622031</td>\n",
       "    </tr>\n",
       "    <tr>\n",
       "      <th>American_US</th>\n",
       "      <th>Hard</th>\n",
       "      <td>0.075973</td>\n",
       "      <td>2.873876</td>\n",
       "    </tr>\n",
       "    <tr>\n",
       "      <th>Chinese</th>\n",
       "      <th>Hard</th>\n",
       "      <td>0.080684</td>\n",
       "      <td>2.823375</td>\n",
       "    </tr>\n",
       "    <tr>\n",
       "      <th>British_UK</th>\n",
       "      <th>Hard</th>\n",
       "      <td>0.096461</td>\n",
       "      <td>2.830917</td>\n",
       "    </tr>\n",
       "    <tr>\n",
       "      <th>Hindi</th>\n",
       "      <th>Hard</th>\n",
       "      <td>0.102209</td>\n",
       "      <td>2.812665</td>\n",
       "    </tr>\n",
       "    <tr>\n",
       "      <th rowspan=\"2\" valign=\"top\">Chinese</th>\n",
       "      <th>Medium</th>\n",
       "      <td>0.105426</td>\n",
       "      <td>1.882268</td>\n",
       "    </tr>\n",
       "    <tr>\n",
       "      <th>Easy</th>\n",
       "      <td>0.140550</td>\n",
       "      <td>1.602427</td>\n",
       "    </tr>\n",
       "    <tr>\n",
       "      <th rowspan=\"3\" valign=\"top\">Spanish</th>\n",
       "      <th>Medium</th>\n",
       "      <td>0.145678</td>\n",
       "      <td>1.841936</td>\n",
       "    </tr>\n",
       "    <tr>\n",
       "      <th>Hard</th>\n",
       "      <td>0.178665</td>\n",
       "      <td>2.733075</td>\n",
       "    </tr>\n",
       "    <tr>\n",
       "      <th>Easy</th>\n",
       "      <td>0.180134</td>\n",
       "      <td>1.579514</td>\n",
       "    </tr>\n",
       "  </tbody>\n",
       "</table>\n",
       "</div>"
      ],
      "text/plain": [
       "                        confidence  wrdLength\n",
       "accent      difficulty                       \n",
       "British_UK  Medium        0.035875   1.813295\n",
       "Hindi       Medium        0.055987   1.816580\n",
       "American_US Medium        0.059448   1.828560\n",
       "            Easy          0.061874   1.670182\n",
       "Hindi       Easy          0.070070   1.641533\n",
       "British_UK  Easy          0.074146   1.622031\n",
       "American_US Hard          0.075973   2.873876\n",
       "Chinese     Hard          0.080684   2.823375\n",
       "British_UK  Hard          0.096461   2.830917\n",
       "Hindi       Hard          0.102209   2.812665\n",
       "Chinese     Medium        0.105426   1.882268\n",
       "            Easy          0.140550   1.602427\n",
       "Spanish     Medium        0.145678   1.841936\n",
       "            Hard          0.178665   2.733075\n",
       "            Easy          0.180134   1.579514"
      ]
     },
     "execution_count": 15,
     "metadata": {},
     "output_type": "execute_result"
    }
   ],
   "source": [
    "confLenData.groupby(['accent','difficulty']).std().sort_values(by=['confidence'])"
   ]
  },
  {
   "cell_type": "markdown",
   "metadata": {},
   "source": [
    "In looking at these tables, it seems that Transcribe was most confident in its transcriptions of the medium-level passages for British (UK), American (US), and Hindi (India) accents. It was the least confident in its transcriptions of the passages spoken with a Spanish accent."
   ]
  },
  {
   "cell_type": "markdown",
   "metadata": {},
   "source": [
    "## In Conclusion:\n",
    "AWS Transcribe is a valuable tool, and handles some accents well, but others not as much. As the world continues to grow more and more connected, and with English continuing to be a prominent language in many countries, it's important that we account for the wide variety of people who speak English and reflect that in our transcription services. "
   ]
  }
 ],
 "metadata": {
  "kernelspec": {
   "display_name": "conda_python3",
   "language": "python",
   "name": "conda_python3"
  },
  "language_info": {
   "codemirror_mode": {
    "name": "ipython",
    "version": 3
   },
   "file_extension": ".py",
   "mimetype": "text/x-python",
   "name": "python",
   "nbconvert_exporter": "python",
   "pygments_lexer": "ipython3",
   "version": "3.6.10"
  }
 },
 "nbformat": 4,
 "nbformat_minor": 4
}
