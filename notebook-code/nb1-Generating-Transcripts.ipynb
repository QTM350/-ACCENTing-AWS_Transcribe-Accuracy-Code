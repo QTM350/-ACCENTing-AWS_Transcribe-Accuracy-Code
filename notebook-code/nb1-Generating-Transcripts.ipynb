{
 "cells": [
  {
   "cell_type": "markdown",
   "metadata": {},
   "source": [
    "# Notebook 1: Generating Transcripts From Audio Files Using AWS Transcribe"
   ]
  },
  {
   "cell_type": "markdown",
   "metadata": {},
   "source": [
    "This is the first of two notebooks in which we attempt to investigate the accuracy of AWS Transcribe across accents from different countries. In this first notebook, we will be putting our fifteen audio files through Transcribe and obtaining a transcript for each one."
   ]
  },
  {
   "cell_type": "markdown",
   "metadata": {},
   "source": [
    "### Getting Started\n",
    "\n",
    "We will use two AWS services in this analysis: **AWS Transcribe** and **Amazon Simple Storage Service (S3)**. Transcribe, our primary service of interest, uses machine learning to transcribe speech detected in audio files. For example, one could use this technology to provide closed captioning for a video. We will also need S3, which allows us to store all of our audio, transcript, and data files in one place. In S3, you create buckets to store your desired objects or files, and so we have created the following three buckets:\n",
    "* **actual-transcripts-for-comprison**, a bucket for the actual transcript files of each excerpt,\n",
    "* **audio-files-to-be-transcribed**, a bucket to hold the audio files we want to transcribe, and \n",
    "* **aws-generated-transcripts**, a bucket to receive and store the output from Transcribe. \n",
    "\n",
    "Click the icons below to learn more about the services we're using."
   ]
  },
  {
   "cell_type": "markdown",
   "metadata": {},
   "source": [
    "<div class=\"row\">\n",
    "    <a href=\"https://aws.amazon.com/transcribe/\">\n",
    "        <img top=\"20px\" left=\"20px\" border=\"0\" alt=\"AWS Transcribe\" src=\"https://docs.google.com/uc?export=download&id=1pEMVXZrauRRe7Wg1mMgdKpSUdBQOjS4v\" width=\"150\">\n",
    "    </a>\n",
    "    <a href=\"https://aws.amazon.com/s3/\">\n",
    "        <img top=\"20px\" left=\"200px\" border=\"0\" alt=\"AWS S3\" src=\"https://docs.google.com/uc?export=download&id=1nZg4pSvadAnGPP9RwuNy6RevMPTbp2LU\" width=\"150\">\n",
    "    </a>\n",
    "</div>"
   ]
  },
  {
   "cell_type": "markdown",
   "metadata": {},
   "source": [
    "## Part 1 - Set-up\n",
    "#### Permissions:\n",
    "First, we need to ensure we have the correct permissions to use Transcribe and S3 as we intend. The permissions we require are  **AmazonS3FullAccess** and **AmazonTranscribeFullAccess**, and they can be attached in this way:\n",
    "1. In Amazon SageMaker, go to Notebook instances and click the name of the instance that will be used to run Transcribe.\n",
    "2. Scroll down to the \"Permissions and encryption\" section and click the link titled \"IAM role ARN,\" which opens the IAM Management Console in a new tab. IAM (short for Identity and Access Management) is a tool used to keep track of all of the users in an organization, as well as their permissions and capabilities within AWS.\n",
    "3. Click \"Attach polices\" and search for the aforementioned permissions in the search bar, checking the box beside each desired permission and selecting \"Attach policy\" to attach the selected permission(s) to the SageMaker instance.\n",
    "4. Check in your list of policies that you can see the newly added ones. \n",
    "\n",
    "*For a walkthrough of attaching these permissions, see the video below (the video does not contain sound):*"
   ]
  },
  {
   "cell_type": "code",
   "execution_count": 1,
   "metadata": {},
   "outputs": [
    {
     "data": {
      "text/html": [
       "\n",
       "<iframe src=\"https://player.vimeo.com/video/479619829\" width=\"640\" height=\"360\" frameborder=\"0\" allow=\"fullscreen\" allowfullscreen></iframe>\n"
      ],
      "text/plain": [
       "<IPython.core.display.HTML object>"
      ]
     },
     "execution_count": 1,
     "metadata": {},
     "output_type": "execute_result"
    }
   ],
   "source": [
    "from IPython.display import HTML\n",
    "HTML(\"\"\"\n",
    "<iframe src=\"https://player.vimeo.com/video/479619829\" width=\"640\" height=\"360\" frameborder=\"0\" allow=\"fullscreen\" allowfullscreen></iframe>\n",
    "\"\"\")"
   ]
  },
  {
   "cell_type": "markdown",
   "metadata": {},
   "source": [
    "#### Upload files to S3:\n",
    "As mentioned in our blog, we used a text-to-speech website to generate audio files of our exerpts. In order to efficiently bring these files through Transcribe, we put them into an S3 bucket, and we also created a bucket to hold the actual, correct transcripts of each of our passages. Try using your own audio files and passages here as well!  \n",
    "\n",
    "*Note: Your S3 buckets do not need to be public, nor do the objects in them.*"
   ]
  },
  {
   "cell_type": "markdown",
   "metadata": {},
   "source": [
    "Now that we have attached the correct permissions and uploaded our files, we can move over to SageMaker, start up our instance, and create a new JupyterLab notebook (we used a conda_python3 notebook)."
   ]
  },
  {
   "cell_type": "markdown",
   "metadata": {},
   "source": [
    "## Part 2 - Using AWS Transcribe\n",
    "\n",
    "In our notebook, we must import `boto3`, the Python Software Development Kit (SDK) for Amazon Web Services. This SDK allows us to use AWS services, such as S3 and Transcribe, from Python. You can read more about `boto3` [here](https://boto3.amazonaws.com/v1/documentation/api/latest/index.html). After importing `boto3`, we indicate that we would like to use the Transcribe API by calling `boto3.client()`. We also import the `time` package, to be used in our transcript generations."
   ]
  },
  {
   "cell_type": "code",
   "execution_count": 2,
   "metadata": {},
   "outputs": [],
   "source": [
    "import boto3\n",
    "transcribe = boto3.client('transcribe')\n",
    "import time"
   ]
  },
  {
   "cell_type": "markdown",
   "metadata": {},
   "source": [
    "Now we can begin generating our transcripts. For the first one, we'll examine each part of the code to describe its purpose.  \n",
    "\n",
    "First, we will create variables for Transcribe to use. We create a `job_name`, which must be a unique name from all other job names, including those of jobs previously run. We also create an identifier, `job_uri`, which points to the specific S3 bucket and file for Transcribe to use. (Recall, our audio files are stored in an S3 bucket called **audio-files-to-be-transcribed**.)"
   ]
  },
  {
   "cell_type": "code",
   "execution_count": 2,
   "metadata": {},
   "outputs": [],
   "source": [
    "job_name = \"American_Easy_Transcript\"\n",
    "job_uri = \"https://audio-files-to-be-transcribed.s3.amazonaws.com/American+Easy+Audio+Extracted.wav\""
   ]
  },
  {
   "cell_type": "markdown",
   "metadata": {},
   "source": [
    "We then initialize the transcription job with the `start_transcription_job()` function. In this function, we indicate the following:  \n",
    "`TranscriptionJobName`: the name of this particular transcription job, which was previously defined  \n",
    "`Media`: the media file to be transcribed, as identified in our creation of the `job_uri` object  \n",
    "`MediaFormat`: the format of the media file  \n",
    "`LanguageCode`: the language of the audio file  \n",
    "`OutputBucketName`: the S3 bucket in which we want the transcript to be stored, in this case, **aws-generated-transcripts**. Please note that you will need to provide the name of one of your own buckets here. Alternatively, you can remove this parameter entirely, and Transcribe will return to you a link that you can paste into a new browser tab which will download the file to your computer."
   ]
  },
  {
   "cell_type": "code",
   "execution_count": 4,
   "metadata": {},
   "outputs": [
    {
     "data": {
      "text/plain": [
       "{'TranscriptionJob': {'TranscriptionJobName': 'American_Easy_Transcript',\n",
       "  'TranscriptionJobStatus': 'IN_PROGRESS',\n",
       "  'LanguageCode': 'en-US',\n",
       "  'MediaFormat': 'wav',\n",
       "  'Media': {'MediaFileUri': 'https://audio-files-to-be-transcribed.s3.amazonaws.com/American+Easy+Audio+Extracted.wav'},\n",
       "  'StartTime': datetime.datetime(2020, 11, 15, 20, 39, 51, 823000, tzinfo=tzlocal()),\n",
       "  'CreationTime': datetime.datetime(2020, 11, 15, 20, 39, 51, 790000, tzinfo=tzlocal())},\n",
       " 'ResponseMetadata': {'RequestId': 'd7c49596-229c-47a5-9882-b420ac159640',\n",
       "  'HTTPStatusCode': 200,\n",
       "  'HTTPHeaders': {'content-type': 'application/x-amz-json-1.1',\n",
       "   'date': 'Sun, 15 Nov 2020 20:39:51 GMT',\n",
       "   'x-amzn-requestid': 'd7c49596-229c-47a5-9882-b420ac159640',\n",
       "   'content-length': '330',\n",
       "   'connection': 'keep-alive'},\n",
       "  'RetryAttempts': 0}}"
      ]
     },
     "execution_count": 4,
     "metadata": {},
     "output_type": "execute_result"
    }
   ],
   "source": [
    "transcribe.start_transcription_job(\n",
    "    TranscriptionJobName=job_name,\n",
    "    Media={'MediaFileUri': job_uri},\n",
    "    MediaFormat='wav',\n",
    "    LanguageCode='en-US',\n",
    "    OutputBucketName='aws-generated-transcripts'\n",
    ")"
   ]
  },
  {
   "cell_type": "markdown",
   "metadata": {},
   "source": [
    "We can check the status of the transcription job as well with the following code, which calls `get_transcription_job()` and evaluates it. Notice the use of `time.sleep(10)` here, which is a function of the `time` package we imported earlier. This function pauses the code's operation for the number of seconds specified in the parentheses. By passing \"10\" into the function, we are checking the status of our transcription job every 10 seconds. If the job is not complete yet, we can choose to display a message every so often. When the job is complete, information about the transcription job will be displayed. The, we can look in our designated S3 bucket for our transcription and additional data regarding it as a JSON file."
   ]
  },
  {
   "cell_type": "code",
   "execution_count": 5,
   "metadata": {},
   "outputs": [
    {
     "name": "stdout",
     "output_type": "stream",
     "text": [
      "Not ready yet...\n",
      "Not ready yet...\n",
      "Not ready yet...\n",
      "Not ready yet...\n",
      "Not ready yet...\n",
      "Not ready yet...\n",
      "{'TranscriptionJob': {'TranscriptionJobName': 'American_Easy_Transcript', 'TranscriptionJobStatus': 'COMPLETED', 'LanguageCode': 'en-US', 'MediaSampleRateHertz': 44100, 'MediaFormat': 'wav', 'Media': {'MediaFileUri': 'https://audio-files-to-be-transcribed.s3.amazonaws.com/American+Easy+Audio+Extracted.wav'}, 'Transcript': {'TranscriptFileUri': 'https://s3.us-east-1.amazonaws.com/aws-generated-transcripts/American_Easy_Transcript.json'}, 'StartTime': datetime.datetime(2020, 11, 15, 20, 39, 51, 823000, tzinfo=tzlocal()), 'CreationTime': datetime.datetime(2020, 11, 15, 20, 39, 51, 790000, tzinfo=tzlocal()), 'CompletionTime': datetime.datetime(2020, 11, 15, 20, 40, 59, 673000, tzinfo=tzlocal()), 'Settings': {'ChannelIdentification': False, 'ShowAlternatives': False}}, 'ResponseMetadata': {'RequestId': '0f570a7a-bf4d-4cc9-a6fd-fe5da0af2e48', 'HTTPStatusCode': 200, 'HTTPHeaders': {'content-type': 'application/x-amz-json-1.1', 'date': 'Sun, 15 Nov 2020 20:41:00 GMT', 'x-amzn-requestid': '0f570a7a-bf4d-4cc9-a6fd-fe5da0af2e48', 'content-length': '587', 'connection': 'keep-alive'}, 'RetryAttempts': 0}}\n"
     ]
    }
   ],
   "source": [
    "while True:\n",
    "    status = transcribe.get_transcription_job(TranscriptionJobName=job_name)\n",
    "    if status['TranscriptionJob']['TranscriptionJobStatus'] in ['COMPLETED', 'FAILED']:\n",
    "        break\n",
    "    print(\"Not ready yet...\")\n",
    "    time.sleep(10)\n",
    "print(status)"
   ]
  },
  {
   "cell_type": "markdown",
   "metadata": {},
   "source": [
    "Now we repeat the code above for each audio file we wish to transcribe. We will generate transcripts for five accents, each at three levels of passage difficulty, and store the resulting transcripts in the **aws-generated-transcrips** bucket."
   ]
  },
  {
   "cell_type": "code",
   "execution_count": 6,
   "metadata": {},
   "outputs": [
    {
     "name": "stdout",
     "output_type": "stream",
     "text": [
      "Not ready yet...\n",
      "Not ready yet...\n",
      "Not ready yet...\n",
      "Not ready yet...\n",
      "Not ready yet...\n",
      "Not ready yet...\n",
      "{'TranscriptionJob': {'TranscriptionJobName': 'American_Medium_Transcript', 'TranscriptionJobStatus': 'COMPLETED', 'LanguageCode': 'en-US', 'MediaSampleRateHertz': 48000, 'MediaFormat': 'wav', 'Media': {'MediaFileUri': 'https://audio-files-to-be-transcribed.s3.amazonaws.com/American+Medium+Audio+Extracted+2.wav'}, 'Transcript': {'TranscriptFileUri': 'https://s3.us-east-1.amazonaws.com/aws-generated-transcripts/American_Medium_Transcript.json'}, 'StartTime': datetime.datetime(2020, 11, 15, 20, 42, 11, 503000, tzinfo=tzlocal()), 'CreationTime': datetime.datetime(2020, 11, 15, 20, 42, 11, 481000, tzinfo=tzlocal()), 'CompletionTime': datetime.datetime(2020, 11, 15, 20, 43, 9, 561000, tzinfo=tzlocal()), 'Settings': {'ChannelIdentification': False, 'ShowAlternatives': False}}, 'ResponseMetadata': {'RequestId': '14693ef9-87c8-4ec2-976b-65628296254c', 'HTTPStatusCode': 200, 'HTTPHeaders': {'content-type': 'application/x-amz-json-1.1', 'date': 'Sun, 15 Nov 2020 20:43:11 GMT', 'x-amzn-requestid': '14693ef9-87c8-4ec2-976b-65628296254c', 'content-length': '596', 'connection': 'keep-alive'}, 'RetryAttempts': 0}}\n"
     ]
    }
   ],
   "source": [
    "job_name = \"American_Medium_Transcript\"\n",
    "job_uri = \"https://audio-files-to-be-transcribed.s3.amazonaws.com/American+Medium+Audio+Extracted+2.wav\"\n",
    "\n",
    "transcribe.start_transcription_job(\n",
    "    TranscriptionJobName=job_name,\n",
    "    Media={'MediaFileUri': job_uri},\n",
    "    MediaFormat='wav',\n",
    "    LanguageCode='en-US',\n",
    "    OutputBucketName='aws-generated-transcripts'\n",
    ")\n",
    "while True:\n",
    "    status = transcribe.get_transcription_job(TranscriptionJobName=job_name)\n",
    "    if status['TranscriptionJob']['TranscriptionJobStatus'] in ['COMPLETED', 'FAILED']:\n",
    "        break\n",
    "    print(\"Not ready yet...\")\n",
    "    time.sleep(10)\n",
    "print(status)"
   ]
  },
  {
   "cell_type": "code",
   "execution_count": 7,
   "metadata": {},
   "outputs": [
    {
     "name": "stdout",
     "output_type": "stream",
     "text": [
      "Not ready yet...\n",
      "Not ready yet...\n",
      "Not ready yet...\n",
      "Not ready yet...\n",
      "Not ready yet...\n",
      "Not ready yet...\n",
      "Not ready yet...\n",
      "{'TranscriptionJob': {'TranscriptionJobName': 'American_Hard_Transcript', 'TranscriptionJobStatus': 'COMPLETED', 'LanguageCode': 'en-US', 'MediaSampleRateHertz': 44100, 'MediaFormat': 'wav', 'Media': {'MediaFileUri': 'https://audio-files-to-be-transcribed.s3.amazonaws.com/American+Hard+Audio+Extracted.wav'}, 'Transcript': {'TranscriptFileUri': 'https://s3.us-east-1.amazonaws.com/aws-generated-transcripts/American_Hard_Transcript.json'}, 'StartTime': datetime.datetime(2020, 11, 15, 20, 43, 24, 193000, tzinfo=tzlocal()), 'CreationTime': datetime.datetime(2020, 11, 15, 20, 43, 24, 170000, tzinfo=tzlocal()), 'CompletionTime': datetime.datetime(2020, 11, 15, 20, 44, 25, 35000, tzinfo=tzlocal()), 'Settings': {'ChannelIdentification': False, 'ShowAlternatives': False}}, 'ResponseMetadata': {'RequestId': '56a2a065-775c-4f35-82c8-755efb8e481a', 'HTTPStatusCode': 200, 'HTTPHeaders': {'content-type': 'application/x-amz-json-1.1', 'date': 'Sun, 15 Nov 2020 20:44:34 GMT', 'x-amzn-requestid': '56a2a065-775c-4f35-82c8-755efb8e481a', 'content-length': '587', 'connection': 'keep-alive'}, 'RetryAttempts': 0}}\n"
     ]
    }
   ],
   "source": [
    "job_name = \"American_Hard_Transcript\"\n",
    "job_uri = \"https://audio-files-to-be-transcribed.s3.amazonaws.com/American+Hard+Audio+Extracted.wav\"\n",
    "\n",
    "transcribe.start_transcription_job(\n",
    "    TranscriptionJobName=job_name,\n",
    "    Media={'MediaFileUri': job_uri},\n",
    "    MediaFormat='wav',\n",
    "    LanguageCode='en-US',\n",
    "    OutputBucketName='aws-generated-transcripts'\n",
    ")\n",
    "while True:\n",
    "    status = transcribe.get_transcription_job(TranscriptionJobName=job_name)\n",
    "    if status['TranscriptionJob']['TranscriptionJobStatus'] in ['COMPLETED', 'FAILED']:\n",
    "        break\n",
    "    print(\"Not ready yet...\")\n",
    "    time.sleep(10)\n",
    "print(status)"
   ]
  },
  {
   "cell_type": "code",
   "execution_count": 11,
   "metadata": {},
   "outputs": [
    {
     "name": "stdout",
     "output_type": "stream",
     "text": [
      "Not ready yet...\n",
      "Not ready yet...\n",
      "Not ready yet...\n",
      "Not ready yet...\n",
      "Not ready yet...\n",
      "Not ready yet...\n",
      "Not ready yet...\n",
      "{'TranscriptionJob': {'TranscriptionJobName': 'British_Easy_Transcript', 'TranscriptionJobStatus': 'COMPLETED', 'LanguageCode': 'en-US', 'MediaSampleRateHertz': 44100, 'MediaFormat': 'wav', 'Media': {'MediaFileUri': 'https://audio-files-to-be-transcribed.s3.amazonaws.com/British+Easy+Audio+Extracted.wav'}, 'Transcript': {'TranscriptFileUri': 'https://s3.us-east-1.amazonaws.com/aws-generated-transcripts/British_Easy_Transcript.json'}, 'StartTime': datetime.datetime(2020, 11, 15, 21, 18, 35, 245000, tzinfo=tzlocal()), 'CreationTime': datetime.datetime(2020, 11, 15, 21, 18, 35, 220000, tzinfo=tzlocal()), 'CompletionTime': datetime.datetime(2020, 11, 15, 21, 19, 41, 542000, tzinfo=tzlocal()), 'Settings': {'ChannelIdentification': False, 'ShowAlternatives': False}}, 'ResponseMetadata': {'RequestId': '0e8d5cbf-894c-4236-aa50-b4a9309cb7b1', 'HTTPStatusCode': 200, 'HTTPHeaders': {'content-type': 'application/x-amz-json-1.1', 'date': 'Sun, 15 Nov 2020 21:19:45 GMT', 'x-amzn-requestid': '0e8d5cbf-894c-4236-aa50-b4a9309cb7b1', 'content-length': '584', 'connection': 'keep-alive'}, 'RetryAttempts': 0}}\n"
     ]
    }
   ],
   "source": [
    "job_name = \"British_Easy_Transcript\"\n",
    "job_uri = \"https://audio-files-to-be-transcribed.s3.amazonaws.com/British+Easy+Audio+Extracted.wav\"\n",
    "\n",
    "transcribe.start_transcription_job(\n",
    "    TranscriptionJobName=job_name,\n",
    "    Media={'MediaFileUri': job_uri},\n",
    "    MediaFormat='wav',\n",
    "    LanguageCode='en-US',\n",
    "    OutputBucketName='aws-generated-transcripts'\n",
    ")\n",
    "while True:\n",
    "    status = transcribe.get_transcription_job(TranscriptionJobName=job_name)\n",
    "    if status['TranscriptionJob']['TranscriptionJobStatus'] in ['COMPLETED', 'FAILED']:\n",
    "        break\n",
    "    print(\"Not ready yet...\")\n",
    "    time.sleep(10)\n",
    "print(status)"
   ]
  },
  {
   "cell_type": "code",
   "execution_count": 9,
   "metadata": {},
   "outputs": [
    {
     "name": "stdout",
     "output_type": "stream",
     "text": [
      "Not ready yet...\n",
      "Not ready yet...\n",
      "Not ready yet...\n",
      "Not ready yet...\n",
      "Not ready yet...\n",
      "Not ready yet...\n",
      "Not ready yet...\n",
      "{'TranscriptionJob': {'TranscriptionJobName': 'British_Medium_Transcript', 'TranscriptionJobStatus': 'COMPLETED', 'LanguageCode': 'en-US', 'MediaSampleRateHertz': 44100, 'MediaFormat': 'wav', 'Media': {'MediaFileUri': 'https://audio-files-to-be-transcribed.s3.amazonaws.com/British+Medium+Audio+Extracted.wav'}, 'Transcript': {'TranscriptFileUri': 'https://s3.us-east-1.amazonaws.com/aws-generated-transcripts/British_Medium_Transcript.json'}, 'StartTime': datetime.datetime(2020, 11, 15, 21, 15, 35, 273000, tzinfo=tzlocal()), 'CreationTime': datetime.datetime(2020, 11, 15, 21, 15, 35, 249000, tzinfo=tzlocal()), 'CompletionTime': datetime.datetime(2020, 11, 15, 21, 16, 37, 835000, tzinfo=tzlocal()), 'Settings': {'ChannelIdentification': False, 'ShowAlternatives': False}}, 'ResponseMetadata': {'RequestId': '18212e60-7514-43e8-9c27-c5348a58a5ca', 'HTTPStatusCode': 200, 'HTTPHeaders': {'content-type': 'application/x-amz-json-1.1', 'date': 'Sun, 15 Nov 2020 21:16:45 GMT', 'x-amzn-requestid': '18212e60-7514-43e8-9c27-c5348a58a5ca', 'content-length': '591', 'connection': 'keep-alive'}, 'RetryAttempts': 0}}\n"
     ]
    }
   ],
   "source": [
    "job_name = \"British_Medium_Transcript\"\n",
    "job_uri = \"https://audio-files-to-be-transcribed.s3.amazonaws.com/British+Medium+Audio+Extracted.wav\"\n",
    "\n",
    "transcribe.start_transcription_job(\n",
    "    TranscriptionJobName=job_name,\n",
    "    Media={'MediaFileUri': job_uri},\n",
    "    MediaFormat='wav',\n",
    "    LanguageCode='en-US',\n",
    "    OutputBucketName='aws-generated-transcripts'\n",
    ")\n",
    "while True:\n",
    "    status = transcribe.get_transcription_job(TranscriptionJobName=job_name)\n",
    "    if status['TranscriptionJob']['TranscriptionJobStatus'] in ['COMPLETED', 'FAILED']:\n",
    "        break\n",
    "    print(\"Not ready yet...\")\n",
    "    time.sleep(10)\n",
    "print(status)"
   ]
  },
  {
   "cell_type": "code",
   "execution_count": 10,
   "metadata": {},
   "outputs": [
    {
     "name": "stdout",
     "output_type": "stream",
     "text": [
      "Not ready yet...\n",
      "Not ready yet...\n",
      "Not ready yet...\n",
      "Not ready yet...\n",
      "Not ready yet...\n",
      "Not ready yet...\n",
      "{'TranscriptionJob': {'TranscriptionJobName': 'British_Hard_Transcript', 'TranscriptionJobStatus': 'COMPLETED', 'LanguageCode': 'en-US', 'MediaSampleRateHertz': 44100, 'MediaFormat': 'wav', 'Media': {'MediaFileUri': 'https://audio-files-to-be-transcribed.s3.amazonaws.com/British+Hard+Audio+Extracted.wav'}, 'Transcript': {'TranscriptFileUri': 'https://s3.us-east-1.amazonaws.com/aws-generated-transcripts/British_Hard_Transcript.json'}, 'StartTime': datetime.datetime(2020, 11, 15, 21, 16, 53, 321000, tzinfo=tzlocal()), 'CreationTime': datetime.datetime(2020, 11, 15, 21, 16, 53, 297000, tzinfo=tzlocal()), 'CompletionTime': datetime.datetime(2020, 11, 15, 21, 17, 53, 69000, tzinfo=tzlocal()), 'Settings': {'ChannelIdentification': False, 'ShowAlternatives': False}}, 'ResponseMetadata': {'RequestId': '31a3bc81-118f-4904-af12-cfa6f065e6b2', 'HTTPStatusCode': 200, 'HTTPHeaders': {'content-type': 'application/x-amz-json-1.1', 'date': 'Sun, 15 Nov 2020 21:17:53 GMT', 'x-amzn-requestid': '31a3bc81-118f-4904-af12-cfa6f065e6b2', 'content-length': '585', 'connection': 'keep-alive'}, 'RetryAttempts': 0}}\n"
     ]
    }
   ],
   "source": [
    "job_name = \"British_Hard_Transcript\"\n",
    "job_uri = \"https://audio-files-to-be-transcribed.s3.amazonaws.com/British+Hard+Audio+Extracted.wav\"\n",
    "\n",
    "transcribe.start_transcription_job(\n",
    "    TranscriptionJobName=job_name,\n",
    "    Media={'MediaFileUri': job_uri},\n",
    "    MediaFormat='wav',\n",
    "    LanguageCode='en-US',\n",
    "    OutputBucketName='aws-generated-transcripts'\n",
    ")\n",
    "while True:\n",
    "    status = transcribe.get_transcription_job(TranscriptionJobName=job_name)\n",
    "    if status['TranscriptionJob']['TranscriptionJobStatus'] in ['COMPLETED', 'FAILED']:\n",
    "        break\n",
    "    print(\"Not ready yet...\")\n",
    "    time.sleep(10)\n",
    "print(status)"
   ]
  },
  {
   "cell_type": "code",
   "execution_count": 12,
   "metadata": {},
   "outputs": [
    {
     "name": "stdout",
     "output_type": "stream",
     "text": [
      "Not ready yet...\n",
      "Not ready yet...\n",
      "Not ready yet...\n",
      "Not ready yet...\n",
      "Not ready yet...\n",
      "Not ready yet...\n",
      "Not ready yet...\n",
      "Not ready yet...\n",
      "{'TranscriptionJob': {'TranscriptionJobName': 'Chinese_Easy_Transcript', 'TranscriptionJobStatus': 'COMPLETED', 'LanguageCode': 'en-US', 'MediaSampleRateHertz': 44100, 'MediaFormat': 'wav', 'Media': {'MediaFileUri': 'https://audio-files-to-be-transcribed.s3.amazonaws.com/Chinese+Easy+Audio+Extracted.wav'}, 'Transcript': {'TranscriptFileUri': 'https://s3.us-east-1.amazonaws.com/aws-generated-transcripts/Chinese_Easy_Transcript.json'}, 'StartTime': datetime.datetime(2020, 11, 15, 21, 21, 30, 98000, tzinfo=tzlocal()), 'CreationTime': datetime.datetime(2020, 11, 15, 21, 21, 30, 78000, tzinfo=tzlocal()), 'CompletionTime': datetime.datetime(2020, 11, 15, 21, 22, 42, 215000, tzinfo=tzlocal()), 'Settings': {'ChannelIdentification': False, 'ShowAlternatives': False}}, 'ResponseMetadata': {'RequestId': 'bedc3776-d4a0-4700-80e0-6efff0e33c49', 'HTTPStatusCode': 200, 'HTTPHeaders': {'content-type': 'application/x-amz-json-1.1', 'date': 'Sun, 15 Nov 2020 21:22:50 GMT', 'x-amzn-requestid': 'bedc3776-d4a0-4700-80e0-6efff0e33c49', 'content-length': '585', 'connection': 'keep-alive'}, 'RetryAttempts': 0}}\n"
     ]
    }
   ],
   "source": [
    "job_name = \"Chinese_Easy_Transcript\"\n",
    "job_uri = \"https://audio-files-to-be-transcribed.s3.amazonaws.com/Chinese+Easy+Audio+Extracted.wav\"\n",
    "\n",
    "transcribe.start_transcription_job(\n",
    "    TranscriptionJobName=job_name,\n",
    "    Media={'MediaFileUri': job_uri},\n",
    "    MediaFormat='wav',\n",
    "    LanguageCode='en-US',\n",
    "    OutputBucketName='aws-generated-transcripts'\n",
    ")\n",
    "while True:\n",
    "    status = transcribe.get_transcription_job(TranscriptionJobName=job_name)\n",
    "    if status['TranscriptionJob']['TranscriptionJobStatus'] in ['COMPLETED', 'FAILED']:\n",
    "        break\n",
    "    print(\"Not ready yet...\")\n",
    "    time.sleep(10)\n",
    "print(status)"
   ]
  },
  {
   "cell_type": "code",
   "execution_count": 13,
   "metadata": {},
   "outputs": [
    {
     "name": "stdout",
     "output_type": "stream",
     "text": [
      "Not ready yet...\n",
      "Not ready yet...\n",
      "Not ready yet...\n",
      "Not ready yet...\n",
      "Not ready yet...\n",
      "Not ready yet...\n",
      "Not ready yet...\n",
      "{'TranscriptionJob': {'TranscriptionJobName': 'Chinese_Medium_Transcript', 'TranscriptionJobStatus': 'COMPLETED', 'LanguageCode': 'en-US', 'MediaSampleRateHertz': 44100, 'MediaFormat': 'wav', 'Media': {'MediaFileUri': 'https://audio-files-to-be-transcribed.s3.amazonaws.com/Chinese+Medium+Audio+Extracted.wav'}, 'Transcript': {'TranscriptFileUri': 'https://s3.us-east-1.amazonaws.com/aws-generated-transcripts/Chinese_Medium_Transcript.json'}, 'StartTime': datetime.datetime(2020, 11, 15, 21, 25, 34, 545000, tzinfo=tzlocal()), 'CreationTime': datetime.datetime(2020, 11, 15, 21, 25, 34, 513000, tzinfo=tzlocal()), 'CompletionTime': datetime.datetime(2020, 11, 15, 21, 26, 42, 813000, tzinfo=tzlocal()), 'Settings': {'ChannelIdentification': False, 'ShowAlternatives': False}}, 'ResponseMetadata': {'RequestId': '6ad9dff5-dde8-48d4-aa2b-b7dae725714a', 'HTTPStatusCode': 200, 'HTTPHeaders': {'content-type': 'application/x-amz-json-1.1', 'date': 'Sun, 15 Nov 2020 21:26:45 GMT', 'x-amzn-requestid': '6ad9dff5-dde8-48d4-aa2b-b7dae725714a', 'content-length': '591', 'connection': 'keep-alive'}, 'RetryAttempts': 0}}\n"
     ]
    }
   ],
   "source": [
    "job_name = \"Chinese_Medium_Transcript\"\n",
    "job_uri = \"https://audio-files-to-be-transcribed.s3.amazonaws.com/Chinese+Medium+Audio+Extracted.wav\"\n",
    "\n",
    "transcribe.start_transcription_job(\n",
    "    TranscriptionJobName=job_name,\n",
    "    Media={'MediaFileUri': job_uri},\n",
    "    MediaFormat='wav',\n",
    "    LanguageCode='en-US',\n",
    "    OutputBucketName='aws-generated-transcripts'\n",
    ")\n",
    "while True:\n",
    "    status = transcribe.get_transcription_job(TranscriptionJobName=job_name)\n",
    "    if status['TranscriptionJob']['TranscriptionJobStatus'] in ['COMPLETED', 'FAILED']:\n",
    "        break\n",
    "    print(\"Not ready yet...\")\n",
    "    time.sleep(10)\n",
    "print(status)"
   ]
  },
  {
   "cell_type": "code",
   "execution_count": 14,
   "metadata": {},
   "outputs": [
    {
     "name": "stdout",
     "output_type": "stream",
     "text": [
      "Not ready yet...\n",
      "Not ready yet...\n",
      "Not ready yet...\n",
      "Not ready yet...\n",
      "Not ready yet...\n",
      "Not ready yet...\n",
      "Not ready yet...\n",
      "{'TranscriptionJob': {'TranscriptionJobName': 'Chinese_Hard_Transcript', 'TranscriptionJobStatus': 'COMPLETED', 'LanguageCode': 'en-US', 'MediaSampleRateHertz': 44100, 'MediaFormat': 'wav', 'Media': {'MediaFileUri': 'https://audio-files-to-be-transcribed.s3.amazonaws.com/Chinese+Hard+Audio+Extracted.wav'}, 'Transcript': {'TranscriptFileUri': 'https://s3.us-east-1.amazonaws.com/aws-generated-transcripts/Chinese_Hard_Transcript.json'}, 'StartTime': datetime.datetime(2020, 11, 15, 21, 33, 1, 652000, tzinfo=tzlocal()), 'CreationTime': datetime.datetime(2020, 11, 15, 21, 33, 1, 630000, tzinfo=tzlocal()), 'CompletionTime': datetime.datetime(2020, 11, 15, 21, 34, 3, 350000, tzinfo=tzlocal()), 'Settings': {'ChannelIdentification': False, 'ShowAlternatives': False}}, 'ResponseMetadata': {'RequestId': '66a761c7-8860-4365-9e2c-79450e6fd3e6', 'HTTPStatusCode': 200, 'HTTPHeaders': {'content-type': 'application/x-amz-json-1.1', 'date': 'Sun, 15 Nov 2020 21:34:11 GMT', 'x-amzn-requestid': '66a761c7-8860-4365-9e2c-79450e6fd3e6', 'content-length': '583', 'connection': 'keep-alive'}, 'RetryAttempts': 0}}\n"
     ]
    }
   ],
   "source": [
    "job_name = \"Chinese_Hard_Transcript\"\n",
    "job_uri = \"https://audio-files-to-be-transcribed.s3.amazonaws.com/Chinese+Hard+Audio+Extracted.wav\"\n",
    "\n",
    "transcribe.start_transcription_job(\n",
    "    TranscriptionJobName=job_name,\n",
    "    Media={'MediaFileUri': job_uri},\n",
    "    MediaFormat='wav',\n",
    "    LanguageCode='en-US',\n",
    "    OutputBucketName='aws-generated-transcripts'\n",
    ")\n",
    "while True:\n",
    "    status = transcribe.get_transcription_job(TranscriptionJobName=job_name)\n",
    "    if status['TranscriptionJob']['TranscriptionJobStatus'] in ['COMPLETED', 'FAILED']:\n",
    "        break\n",
    "    print(\"Not ready yet...\")\n",
    "    time.sleep(10)\n",
    "print(status)"
   ]
  },
  {
   "cell_type": "code",
   "execution_count": 17,
   "metadata": {},
   "outputs": [
    {
     "name": "stdout",
     "output_type": "stream",
     "text": [
      "Not ready yet...\n",
      "Not ready yet...\n",
      "Not ready yet...\n",
      "Not ready yet...\n",
      "Not ready yet...\n",
      "Not ready yet...\n",
      "Not ready yet...\n",
      "{'TranscriptionJob': {'TranscriptionJobName': 'Hindi_Easy_Transcript', 'TranscriptionJobStatus': 'COMPLETED', 'LanguageCode': 'en-US', 'MediaSampleRateHertz': 44100, 'MediaFormat': 'wav', 'Media': {'MediaFileUri': 'https://audio-files-to-be-transcribed.s3.amazonaws.com/Hindi+Easy+Audio+Extracted.wav'}, 'Transcript': {'TranscriptFileUri': 'https://s3.us-east-1.amazonaws.com/aws-generated-transcripts/Hindi_Easy_Transcript.json'}, 'StartTime': datetime.datetime(2020, 11, 15, 21, 41, 33, 840000, tzinfo=tzlocal()), 'CreationTime': datetime.datetime(2020, 11, 15, 21, 41, 33, 817000, tzinfo=tzlocal()), 'CompletionTime': datetime.datetime(2020, 11, 15, 21, 42, 41, 937000, tzinfo=tzlocal()), 'Settings': {'ChannelIdentification': False, 'ShowAlternatives': False}}, 'ResponseMetadata': {'RequestId': 'c74aafbd-4498-46f6-9ac2-9a093677c2c1', 'HTTPStatusCode': 200, 'HTTPHeaders': {'content-type': 'application/x-amz-json-1.1', 'date': 'Sun, 15 Nov 2020 21:42:43 GMT', 'x-amzn-requestid': 'c74aafbd-4498-46f6-9ac2-9a093677c2c1', 'content-length': '578', 'connection': 'keep-alive'}, 'RetryAttempts': 0}}\n"
     ]
    }
   ],
   "source": [
    "job_name = \"Hindi_Easy_Transcript\"\n",
    "job_uri = \"https://audio-files-to-be-transcribed.s3.amazonaws.com/Hindi+Easy+Audio+Extracted.wav\"\n",
    "\n",
    "transcribe.start_transcription_job(\n",
    "    TranscriptionJobName=job_name,\n",
    "    Media={'MediaFileUri': job_uri},\n",
    "    MediaFormat='wav',\n",
    "    LanguageCode='en-US',\n",
    "    OutputBucketName='aws-generated-transcripts'\n",
    ")\n",
    "while True:\n",
    "    status = transcribe.get_transcription_job(TranscriptionJobName=job_name)\n",
    "    if status['TranscriptionJob']['TranscriptionJobStatus'] in ['COMPLETED', 'FAILED']:\n",
    "        break\n",
    "    print(\"Not ready yet...\")\n",
    "    time.sleep(10)\n",
    "print(status)"
   ]
  },
  {
   "cell_type": "code",
   "execution_count": 20,
   "metadata": {},
   "outputs": [
    {
     "name": "stdout",
     "output_type": "stream",
     "text": [
      "Not ready yet...\n",
      "Not ready yet...\n",
      "Not ready yet...\n",
      "Not ready yet...\n",
      "Not ready yet...\n",
      "Not ready yet...\n",
      "Not ready yet...\n",
      "{'TranscriptionJob': {'TranscriptionJobName': 'Hindi_Medium_Transcript', 'TranscriptionJobStatus': 'COMPLETED', 'LanguageCode': 'en-US', 'MediaSampleRateHertz': 44100, 'MediaFormat': 'wav', 'Media': {'MediaFileUri': 'https://audio-files-to-be-transcribed.s3.amazonaws.com/Hindi+Medium+Audio+Extracted.wav'}, 'Transcript': {'TranscriptFileUri': 'https://s3.us-east-1.amazonaws.com/aws-generated-transcripts/Hindi_Medium_Transcript.json'}, 'StartTime': datetime.datetime(2020, 11, 15, 21, 45, 23, 90000, tzinfo=tzlocal()), 'CreationTime': datetime.datetime(2020, 11, 15, 21, 45, 23, 66000, tzinfo=tzlocal()), 'CompletionTime': datetime.datetime(2020, 11, 15, 21, 46, 25, 82000, tzinfo=tzlocal()), 'Settings': {'ChannelIdentification': False, 'ShowAlternatives': False}}, 'ResponseMetadata': {'RequestId': 'a6a29f7e-8beb-4280-8863-a8a90c13f115', 'HTTPStatusCode': 200, 'HTTPHeaders': {'content-type': 'application/x-amz-json-1.1', 'date': 'Sun, 15 Nov 2020 21:46:32 GMT', 'x-amzn-requestid': 'a6a29f7e-8beb-4280-8863-a8a90c13f115', 'content-length': '584', 'connection': 'keep-alive'}, 'RetryAttempts': 0}}\n"
     ]
    }
   ],
   "source": [
    "job_name = \"Hindi_Medium_Transcript\"\n",
    "job_uri = \"https://audio-files-to-be-transcribed.s3.amazonaws.com/Hindi+Medium+Audio+Extracted.wav\"\n",
    "\n",
    "transcribe.start_transcription_job(\n",
    "    TranscriptionJobName=job_name,\n",
    "    Media={'MediaFileUri': job_uri},\n",
    "    MediaFormat='wav',\n",
    "    LanguageCode='en-US',\n",
    "    OutputBucketName='aws-generated-transcripts'\n",
    ")\n",
    "while True:\n",
    "    status = transcribe.get_transcription_job(TranscriptionJobName=job_name)\n",
    "    if status['TranscriptionJob']['TranscriptionJobStatus'] in ['COMPLETED', 'FAILED']:\n",
    "        break\n",
    "    print(\"Not ready yet...\")\n",
    "    time.sleep(10)\n",
    "print(status)"
   ]
  },
  {
   "cell_type": "code",
   "execution_count": 21,
   "metadata": {},
   "outputs": [
    {
     "name": "stdout",
     "output_type": "stream",
     "text": [
      "Not ready yet...\n",
      "Not ready yet...\n",
      "Not ready yet...\n",
      "Not ready yet...\n",
      "Not ready yet...\n",
      "Not ready yet...\n",
      "{'TranscriptionJob': {'TranscriptionJobName': 'Hindi_Hard_Transcript', 'TranscriptionJobStatus': 'COMPLETED', 'LanguageCode': 'en-US', 'MediaSampleRateHertz': 44100, 'MediaFormat': 'wav', 'Media': {'MediaFileUri': 'https://audio-files-to-be-transcribed.s3.amazonaws.com/Hindi+Hard+Audio+Extracted.wav'}, 'Transcript': {'TranscriptFileUri': 'https://s3.us-east-1.amazonaws.com/aws-generated-transcripts/Hindi_Hard_Transcript.json'}, 'StartTime': datetime.datetime(2020, 11, 15, 21, 49, 21, 55000, tzinfo=tzlocal()), 'CreationTime': datetime.datetime(2020, 11, 15, 21, 49, 21, 21000, tzinfo=tzlocal()), 'CompletionTime': datetime.datetime(2020, 11, 15, 21, 50, 18, 402000, tzinfo=tzlocal()), 'Settings': {'ChannelIdentification': False, 'ShowAlternatives': False}}, 'ResponseMetadata': {'RequestId': '25dae86a-5451-4ffa-b24e-18829bf4331a', 'HTTPStatusCode': 200, 'HTTPHeaders': {'content-type': 'application/x-amz-json-1.1', 'date': 'Sun, 15 Nov 2020 21:50:20 GMT', 'x-amzn-requestid': '25dae86a-5451-4ffa-b24e-18829bf4331a', 'content-length': '579', 'connection': 'keep-alive'}, 'RetryAttempts': 0}}\n"
     ]
    }
   ],
   "source": [
    "job_name = \"Hindi_Hard_Transcript\"\n",
    "job_uri = \"https://audio-files-to-be-transcribed.s3.amazonaws.com/Hindi+Hard+Audio+Extracted.wav\"\n",
    "\n",
    "transcribe.start_transcription_job(\n",
    "    TranscriptionJobName=job_name,\n",
    "    Media={'MediaFileUri': job_uri},\n",
    "    MediaFormat='wav',\n",
    "    LanguageCode='en-US',\n",
    "    OutputBucketName='aws-generated-transcripts'\n",
    ")\n",
    "while True:\n",
    "    status = transcribe.get_transcription_job(TranscriptionJobName=job_name)\n",
    "    if status['TranscriptionJob']['TranscriptionJobStatus'] in ['COMPLETED', 'FAILED']:\n",
    "        break\n",
    "    print(\"Not ready yet...\")\n",
    "    time.sleep(10)\n",
    "print(status)"
   ]
  },
  {
   "cell_type": "code",
   "execution_count": 22,
   "metadata": {},
   "outputs": [
    {
     "name": "stdout",
     "output_type": "stream",
     "text": [
      "Not ready yet...\n",
      "Not ready yet...\n",
      "Not ready yet...\n",
      "Not ready yet...\n",
      "Not ready yet...\n",
      "Not ready yet...\n",
      "Not ready yet...\n",
      "Not ready yet...\n",
      "{'TranscriptionJob': {'TranscriptionJobName': 'Spanish_Easy_Transcript', 'TranscriptionJobStatus': 'COMPLETED', 'LanguageCode': 'en-US', 'MediaSampleRateHertz': 44100, 'MediaFormat': 'wav', 'Media': {'MediaFileUri': 'https://audio-files-to-be-transcribed.s3.amazonaws.com/Spanish+Easy+Audio+Extracted.wav'}, 'Transcript': {'TranscriptFileUri': 'https://s3.us-east-1.amazonaws.com/aws-generated-transcripts/Spanish_Easy_Transcript.json'}, 'StartTime': datetime.datetime(2020, 11, 15, 21, 51, 5, 709000, tzinfo=tzlocal()), 'CreationTime': datetime.datetime(2020, 11, 15, 21, 51, 5, 683000, tzinfo=tzlocal()), 'CompletionTime': datetime.datetime(2020, 11, 15, 21, 52, 20, 15000, tzinfo=tzlocal()), 'Settings': {'ChannelIdentification': False, 'ShowAlternatives': False}}, 'ResponseMetadata': {'RequestId': 'c83113fa-4625-483a-9410-f31866f40b11', 'HTTPStatusCode': 200, 'HTTPHeaders': {'content-type': 'application/x-amz-json-1.1', 'date': 'Sun, 15 Nov 2020 21:52:25 GMT', 'x-amzn-requestid': 'c83113fa-4625-483a-9410-f31866f40b11', 'content-length': '585', 'connection': 'keep-alive'}, 'RetryAttempts': 0}}\n"
     ]
    }
   ],
   "source": [
    "job_name = \"Spanish_Easy_Transcript\"\n",
    "job_uri = \"https://audio-files-to-be-transcribed.s3.amazonaws.com/Spanish+Easy+Audio+Extracted.wav\"\n",
    "\n",
    "transcribe.start_transcription_job(\n",
    "    TranscriptionJobName=job_name,\n",
    "    Media={'MediaFileUri': job_uri},\n",
    "    MediaFormat='wav',\n",
    "    LanguageCode='en-US',\n",
    "    OutputBucketName='aws-generated-transcripts'\n",
    ")\n",
    "while True:\n",
    "    status = transcribe.get_transcription_job(TranscriptionJobName=job_name)\n",
    "    if status['TranscriptionJob']['TranscriptionJobStatus'] in ['COMPLETED', 'FAILED']:\n",
    "        break\n",
    "    print(\"Not ready yet...\")\n",
    "    time.sleep(10)\n",
    "print(status)"
   ]
  },
  {
   "cell_type": "code",
   "execution_count": 23,
   "metadata": {},
   "outputs": [
    {
     "name": "stdout",
     "output_type": "stream",
     "text": [
      "Not ready yet...\n",
      "Not ready yet...\n",
      "Not ready yet...\n",
      "Not ready yet...\n",
      "Not ready yet...\n",
      "Not ready yet...\n",
      "Not ready yet...\n",
      "{'TranscriptionJob': {'TranscriptionJobName': 'Spanish_Medium_Transcript', 'TranscriptionJobStatus': 'COMPLETED', 'LanguageCode': 'en-US', 'MediaSampleRateHertz': 44100, 'MediaFormat': 'wav', 'Media': {'MediaFileUri': 'https://audio-files-to-be-transcribed.s3.amazonaws.com/Spanish+Medium+Audio+Extracted.wav'}, 'Transcript': {'TranscriptFileUri': 'https://s3.us-east-1.amazonaws.com/aws-generated-transcripts/Spanish_Medium_Transcript.json'}, 'StartTime': datetime.datetime(2020, 11, 15, 21, 54, 1, 454000, tzinfo=tzlocal()), 'CreationTime': datetime.datetime(2020, 11, 15, 21, 54, 1, 430000, tzinfo=tzlocal()), 'CompletionTime': datetime.datetime(2020, 11, 15, 21, 55, 12, 912000, tzinfo=tzlocal()), 'Settings': {'ChannelIdentification': False, 'ShowAlternatives': False}}, 'ResponseMetadata': {'RequestId': '51b93a24-3ccb-4abf-afd6-604845e9a6a9', 'HTTPStatusCode': 200, 'HTTPHeaders': {'content-type': 'application/x-amz-json-1.1', 'date': 'Sun, 15 Nov 2020 21:55:13 GMT', 'x-amzn-requestid': '51b93a24-3ccb-4abf-afd6-604845e9a6a9', 'content-length': '590', 'connection': 'keep-alive'}, 'RetryAttempts': 0}}\n"
     ]
    }
   ],
   "source": [
    "job_name = \"Spanish_Medium_Transcript\"\n",
    "job_uri = \"https://audio-files-to-be-transcribed.s3.amazonaws.com/Spanish+Medium+Audio+Extracted.wav\"\n",
    "\n",
    "transcribe.start_transcription_job(\n",
    "    TranscriptionJobName=job_name,\n",
    "    Media={'MediaFileUri': job_uri},\n",
    "    MediaFormat='wav',\n",
    "    LanguageCode='en-US',\n",
    "    OutputBucketName='aws-generated-transcripts'\n",
    ")\n",
    "while True:\n",
    "    status = transcribe.get_transcription_job(TranscriptionJobName=job_name)\n",
    "    if status['TranscriptionJob']['TranscriptionJobStatus'] in ['COMPLETED', 'FAILED']:\n",
    "        break\n",
    "    print(\"Not ready yet...\")\n",
    "    time.sleep(10)\n",
    "print(status)"
   ]
  },
  {
   "cell_type": "code",
   "execution_count": 24,
   "metadata": {},
   "outputs": [
    {
     "name": "stdout",
     "output_type": "stream",
     "text": [
      "Not ready yet...\n",
      "Not ready yet...\n",
      "Not ready yet...\n",
      "Not ready yet...\n",
      "Not ready yet...\n",
      "Not ready yet...\n",
      "Not ready yet...\n",
      "{'TranscriptionJob': {'TranscriptionJobName': 'Spanish_Hard_Transcript', 'TranscriptionJobStatus': 'COMPLETED', 'LanguageCode': 'en-US', 'MediaSampleRateHertz': 44100, 'MediaFormat': 'wav', 'Media': {'MediaFileUri': 'https://audio-files-to-be-transcribed.s3.amazonaws.com/Spanish+Hard+Audio+Extracted.wav'}, 'Transcript': {'TranscriptFileUri': 'https://s3.us-east-1.amazonaws.com/aws-generated-transcripts/Spanish_Hard_Transcript.json'}, 'StartTime': datetime.datetime(2020, 11, 15, 21, 55, 31, 511000, tzinfo=tzlocal()), 'CreationTime': datetime.datetime(2020, 11, 15, 21, 55, 31, 486000, tzinfo=tzlocal()), 'CompletionTime': datetime.datetime(2020, 11, 15, 21, 56, 34, 820000, tzinfo=tzlocal()), 'Settings': {'ChannelIdentification': False, 'ShowAlternatives': False}}, 'ResponseMetadata': {'RequestId': 'a89b9ce8-0ad4-4a81-afaf-9f3a5da1bad0', 'HTTPStatusCode': 200, 'HTTPHeaders': {'content-type': 'application/x-amz-json-1.1', 'date': 'Sun, 15 Nov 2020 21:56:41 GMT', 'x-amzn-requestid': 'a89b9ce8-0ad4-4a81-afaf-9f3a5da1bad0', 'content-length': '584', 'connection': 'keep-alive'}, 'RetryAttempts': 0}}\n"
     ]
    }
   ],
   "source": [
    "job_name = \"Spanish_Hard_Transcript\"\n",
    "job_uri = \"https://audio-files-to-be-transcribed.s3.amazonaws.com/Spanish+Hard+Audio+Extracted.wav\"\n",
    "\n",
    "transcribe.start_transcription_job(\n",
    "    TranscriptionJobName=job_name,\n",
    "    Media={'MediaFileUri': job_uri},\n",
    "    MediaFormat='wav',\n",
    "    LanguageCode='en-US',\n",
    "    OutputBucketName='aws-generated-transcripts'\n",
    ")\n",
    "while True:\n",
    "    status = transcribe.get_transcription_job(TranscriptionJobName=job_name)\n",
    "    if status['TranscriptionJob']['TranscriptionJobStatus'] in ['COMPLETED', 'FAILED']:\n",
    "        break\n",
    "    print(\"Not ready yet...\")\n",
    "    time.sleep(10)\n",
    "print(status)"
   ]
  },
  {
   "cell_type": "markdown",
   "metadata": {},
   "source": [
    "## In Summary:\n",
    "We have now produced fifteen transcripts using AWS Transcribe, and stored them in an S3 bucket. In the next notebook, we will retrieve the transcripts from our bucket, extract the information we are interested in, and analyze and visualize our data."
   ]
  }
 ],
 "metadata": {
  "kernelspec": {
   "display_name": "conda_python3",
   "language": "python",
   "name": "conda_python3"
  },
  "language_info": {
   "codemirror_mode": {
    "name": "ipython",
    "version": 3
   },
   "file_extension": ".py",
   "mimetype": "text/x-python",
   "name": "python",
   "nbconvert_exporter": "python",
   "pygments_lexer": "ipython3",
   "version": "3.6.10"
  }
 },
 "nbformat": 4,
 "nbformat_minor": 4
}
